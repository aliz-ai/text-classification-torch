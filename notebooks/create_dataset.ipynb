{
 "cells": [
  {
   "cell_type": "markdown",
   "id": "158b5891-1c45-47b3-afce-51d6980c4576",
   "metadata": {},
   "source": [
    "# Create dataset\n",
    "\n",
    "AutoML required specified data formatting for use in a Vertex AI dataset. If we choose the CSV input format then our text dataset should contain 3 columns:\n",
    "- **ml_use** - *training*/*validation*/*test*\n",
    "- **text**\n",
    "- **label**\n",
    "\n",
    "Find more details at: [Text training data requirements](https://cloud.google.com/vertex-ai/docs/datasets/prepare-text)  \n",
    "\n",
    "\n",
    "## Data\n",
    "\n",
    "For presentation purposes we use general [text classification](https://www.kaggle.com/kashnitsky/hierarchical-text-classification) dataset from Kaggle. This dataset contains a hierarchical classification of comments on product. We use only the top level category to simplify the task. There are 6 types of top level categories, such as *beauty*, *toys games*, *pet supplies* and others.  \n",
    "\n",
    "The Kaggle dataset contains training and validation sets. In order to be able to calculate model performance, we keep validation set as test set. Original train set then can be split into training and validation sets if required."
   ]
  },
  {
   "cell_type": "code",
   "execution_count": 1,
   "id": "f6d1fe33-6028-43c9-96ef-099adc91f4cc",
   "metadata": {},
   "outputs": [],
   "source": [
    "import pandas as pd\n",
    "\n",
    "train_df = pd.read_csv(\"gs://haba-ws/data/train_40k.csv\")"
   ]
  },
  {
   "cell_type": "code",
   "execution_count": 9,
   "id": "f3df14be-1207-49fa-89f9-67f57d0ea8a1",
   "metadata": {},
   "outputs": [
    {
     "data": {
      "text/html": [
       "<div>\n",
       "<style scoped>\n",
       "    .dataframe tbody tr th:only-of-type {\n",
       "        vertical-align: middle;\n",
       "    }\n",
       "\n",
       "    .dataframe tbody tr th {\n",
       "        vertical-align: top;\n",
       "    }\n",
       "\n",
       "    .dataframe thead th {\n",
       "        text-align: right;\n",
       "    }\n",
       "</style>\n",
       "<table border=\"1\" class=\"dataframe\">\n",
       "  <thead>\n",
       "    <tr style=\"text-align: right;\">\n",
       "      <th></th>\n",
       "      <th>productId</th>\n",
       "      <th>Title</th>\n",
       "      <th>userId</th>\n",
       "      <th>Helpfulness</th>\n",
       "      <th>Score</th>\n",
       "      <th>Time</th>\n",
       "      <th>Text</th>\n",
       "      <th>Cat1</th>\n",
       "      <th>Cat2</th>\n",
       "      <th>Cat3</th>\n",
       "    </tr>\n",
       "  </thead>\n",
       "  <tbody>\n",
       "    <tr>\n",
       "      <th>0</th>\n",
       "      <td>B000E46LYG</td>\n",
       "      <td>Golden Valley Natural Buffalo Jerky</td>\n",
       "      <td>A3MQDNGHDJU4MK</td>\n",
       "      <td>0/0</td>\n",
       "      <td>3.0</td>\n",
       "      <td>-1</td>\n",
       "      <td>The description and photo on this product need...</td>\n",
       "      <td>grocery gourmet food</td>\n",
       "      <td>meat poultry</td>\n",
       "      <td>jerky</td>\n",
       "    </tr>\n",
       "    <tr>\n",
       "      <th>1</th>\n",
       "      <td>B000GRA6N8</td>\n",
       "      <td>Westing Game</td>\n",
       "      <td>unknown</td>\n",
       "      <td>0/0</td>\n",
       "      <td>5.0</td>\n",
       "      <td>860630400</td>\n",
       "      <td>This was a great book!!!! It is well thought t...</td>\n",
       "      <td>toys games</td>\n",
       "      <td>games</td>\n",
       "      <td>unknown</td>\n",
       "    </tr>\n",
       "    <tr>\n",
       "      <th>2</th>\n",
       "      <td>B000GRA6N8</td>\n",
       "      <td>Westing Game</td>\n",
       "      <td>unknown</td>\n",
       "      <td>0/0</td>\n",
       "      <td>5.0</td>\n",
       "      <td>883008000</td>\n",
       "      <td>I am a first year teacher, teaching 5th grade....</td>\n",
       "      <td>toys games</td>\n",
       "      <td>games</td>\n",
       "      <td>unknown</td>\n",
       "    </tr>\n",
       "    <tr>\n",
       "      <th>3</th>\n",
       "      <td>B000GRA6N8</td>\n",
       "      <td>Westing Game</td>\n",
       "      <td>unknown</td>\n",
       "      <td>0/0</td>\n",
       "      <td>5.0</td>\n",
       "      <td>897696000</td>\n",
       "      <td>I got the book at my bookfair at school lookin...</td>\n",
       "      <td>toys games</td>\n",
       "      <td>games</td>\n",
       "      <td>unknown</td>\n",
       "    </tr>\n",
       "    <tr>\n",
       "      <th>4</th>\n",
       "      <td>B00000DMDQ</td>\n",
       "      <td>I SPY A is For Jigsaw Puzzle 63pc</td>\n",
       "      <td>unknown</td>\n",
       "      <td>2/4</td>\n",
       "      <td>5.0</td>\n",
       "      <td>911865600</td>\n",
       "      <td>Hi! I'm Martine Redman and I created this puzz...</td>\n",
       "      <td>toys games</td>\n",
       "      <td>puzzles</td>\n",
       "      <td>jigsaw puzzles</td>\n",
       "    </tr>\n",
       "  </tbody>\n",
       "</table>\n",
       "</div>"
      ],
      "text/plain": [
       "    productId                                Title          userId  \\\n",
       "0  B000E46LYG  Golden Valley Natural Buffalo Jerky  A3MQDNGHDJU4MK   \n",
       "1  B000GRA6N8                         Westing Game         unknown   \n",
       "2  B000GRA6N8                         Westing Game         unknown   \n",
       "3  B000GRA6N8                         Westing Game         unknown   \n",
       "4  B00000DMDQ    I SPY A is For Jigsaw Puzzle 63pc         unknown   \n",
       "\n",
       "  Helpfulness  Score       Time  \\\n",
       "0         0/0    3.0         -1   \n",
       "1         0/0    5.0  860630400   \n",
       "2         0/0    5.0  883008000   \n",
       "3         0/0    5.0  897696000   \n",
       "4         2/4    5.0  911865600   \n",
       "\n",
       "                                                Text                  Cat1  \\\n",
       "0  The description and photo on this product need...  grocery gourmet food   \n",
       "1  This was a great book!!!! It is well thought t...            toys games   \n",
       "2  I am a first year teacher, teaching 5th grade....            toys games   \n",
       "3  I got the book at my bookfair at school lookin...            toys games   \n",
       "4  Hi! I'm Martine Redman and I created this puzz...            toys games   \n",
       "\n",
       "           Cat2            Cat3  \n",
       "0  meat poultry           jerky  \n",
       "1         games         unknown  \n",
       "2         games         unknown  \n",
       "3         games         unknown  \n",
       "4       puzzles  jigsaw puzzles  "
      ]
     },
     "execution_count": 9,
     "metadata": {},
     "output_type": "execute_result"
    }
   ],
   "source": [
    "train_df.head()"
   ]
  },
  {
   "cell_type": "markdown",
   "id": "3993a7bd-983f-4d60-9cc3-ec2bdf6b3019",
   "metadata": {},
   "source": [
    "Use provided validation set as a test set."
   ]
  },
  {
   "cell_type": "code",
   "execution_count": 10,
   "id": "53adc2d4-a342-4fc1-b466-57499d243c92",
   "metadata": {},
   "outputs": [],
   "source": [
    "test_df = pd.read_csv(\"gs://haba-ws/data/val_10k.csv\")[[\"Text\", \"Cat1\"]]\n",
    "test_df[\"ml_use\"] = \"test\""
   ]
  },
  {
   "cell_type": "markdown",
   "id": "ef866395-f4a7-4e83-8574-e9c9438ec4fb",
   "metadata": {},
   "source": [
    "Split training set into training and validation sets."
   ]
  },
  {
   "cell_type": "code",
   "execution_count": 11,
   "id": "7c8032be-6ad5-4039-ab5e-05a8833bc005",
   "metadata": {},
   "outputs": [],
   "source": [
    "from sklearn.model_selection import train_test_split\n",
    "\n",
    "train_df, val_df = train_test_split(train_df[[\"Text\", \"Cat1\"]], test_size=5_000, random_state=42)\n",
    "train_df[\"ml_use\"] = \"training\"\n",
    "val_df[\"ml_use\"] = \"validation\""
   ]
  },
  {
   "cell_type": "code",
   "execution_count": 14,
   "id": "d72348e1-adec-47b1-86d6-f4b0e9791700",
   "metadata": {},
   "outputs": [
    {
     "data": {
      "text/html": [
       "<div>\n",
       "<style scoped>\n",
       "    .dataframe tbody tr th:only-of-type {\n",
       "        vertical-align: middle;\n",
       "    }\n",
       "\n",
       "    .dataframe tbody tr th {\n",
       "        vertical-align: top;\n",
       "    }\n",
       "\n",
       "    .dataframe thead th {\n",
       "        text-align: right;\n",
       "    }\n",
       "</style>\n",
       "<table border=\"1\" class=\"dataframe\">\n",
       "  <thead>\n",
       "    <tr style=\"text-align: right;\">\n",
       "      <th></th>\n",
       "      <th>ml_use</th>\n",
       "      <th>Text</th>\n",
       "      <th>Cat1</th>\n",
       "    </tr>\n",
       "  </thead>\n",
       "  <tbody>\n",
       "    <tr>\n",
       "      <th>27053</th>\n",
       "      <td>training</td>\n",
       "      <td>This is oval and lop sided. I tried using it m...</td>\n",
       "      <td>toys games</td>\n",
       "    </tr>\n",
       "    <tr>\n",
       "      <th>4082</th>\n",
       "      <td>training</td>\n",
       "      <td>This is the best set hands downit stays togeth...</td>\n",
       "      <td>toys games</td>\n",
       "    </tr>\n",
       "    <tr>\n",
       "      <th>38171</th>\n",
       "      <td>training</td>\n",
       "      <td>Well, after several months of use I decided to...</td>\n",
       "      <td>pet supplies</td>\n",
       "    </tr>\n",
       "    <tr>\n",
       "      <th>165</th>\n",
       "      <td>training</td>\n",
       "      <td>These didn't really taste the way I expected a...</td>\n",
       "      <td>health personal care</td>\n",
       "    </tr>\n",
       "    <tr>\n",
       "      <th>12079</th>\n",
       "      <td>training</td>\n",
       "      <td>Great toy! Liked the the back light, easy to p...</td>\n",
       "      <td>toys games</td>\n",
       "    </tr>\n",
       "  </tbody>\n",
       "</table>\n",
       "</div>"
      ],
      "text/plain": [
       "         ml_use                                               Text  \\\n",
       "27053  training  This is oval and lop sided. I tried using it m...   \n",
       "4082   training  This is the best set hands downit stays togeth...   \n",
       "38171  training  Well, after several months of use I decided to...   \n",
       "165    training  These didn't really taste the way I expected a...   \n",
       "12079  training  Great toy! Liked the the back light, easy to p...   \n",
       "\n",
       "                       Cat1  \n",
       "27053            toys games  \n",
       "4082             toys games  \n",
       "38171          pet supplies  \n",
       "165    health personal care  \n",
       "12079            toys games  "
      ]
     },
     "execution_count": 14,
     "metadata": {},
     "output_type": "execute_result"
    }
   ],
   "source": [
    "data = pd.concat([train_df, val_df, test_df])[[\"ml_use\", \"Text\", \"Cat1\"]]\n",
    "data.head()"
   ]
  },
  {
   "cell_type": "markdown",
   "id": "270f18a5-61dc-42dc-a4e3-80a85a5a8f23",
   "metadata": {},
   "source": [
    "Save dataset without header and index to match the required format."
   ]
  },
  {
   "cell_type": "code",
   "execution_count": 16,
   "id": "1d35a3c0-a850-4e28-ad46-7ad705d90c5b",
   "metadata": {},
   "outputs": [],
   "source": [
    "data.to_csv(\"gs://haba-ws/data.csv\", index=False, header=False)"
   ]
  }
 ],
 "metadata": {
  "environment": {
   "kernel": "python3",
   "name": "pytorch-gpu.1-9.m82",
   "type": "gcloud",
   "uri": "gcr.io/deeplearning-platform-release/pytorch-gpu.1-9:m82"
  },
  "kernelspec": {
   "display_name": "Python 3",
   "language": "python",
   "name": "python3"
  },
  "language_info": {
   "codemirror_mode": {
    "name": "ipython",
    "version": 3
   },
   "file_extension": ".py",
   "mimetype": "text/x-python",
   "name": "python",
   "nbconvert_exporter": "python",
   "pygments_lexer": "ipython3",
   "version": "3.8.12"
  }
 },
 "nbformat": 4,
 "nbformat_minor": 5
}
