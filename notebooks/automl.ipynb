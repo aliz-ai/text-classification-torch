{
 "cells": [
  {
   "cell_type": "markdown",
   "id": "f76a4d1f-9be1-4482-87c8-a263e1be07c3",
   "metadata": {},
   "source": [
    "# Predict with Text AutoML\n",
    "\n",
    "## Format input\n",
    "Input format for [Batch Prediction](https://cloud.google.com/vertex-ai/docs/predictions/batch-predictions?_ga=2.29653430.-863906062.1624595783)."
   ]
  },
  {
   "cell_type": "markdown",
   "id": "48d410c5-10f7-49d2-b723-623a84af476d",
   "metadata": {},
   "source": [
    "## Predict\n",
    "You can predict either using the GCP Console or Python code."
   ]
  },
  {
   "cell_type": "code",
   "execution_count": 1,
   "id": "fa7a164a-33c3-453f-ac34-2b0d14a8dc71",
   "metadata": {},
   "outputs": [],
   "source": [
    "from typing import Union, Sequence\n",
    "from google.cloud import aiplatform\n",
    "\n",
    "def create_batch_prediction_job_sample(\n",
    "    project: str,\n",
    "    location: str,\n",
    "    model_resource_name: str,\n",
    "    job_display_name: str,\n",
    "    gcs_source: Union[str, Sequence[str]],\n",
    "    gcs_destination: str,\n",
    "    sync: bool = True,\n",
    "):\n",
    "    aiplatform.init(project=project, location=location)\n",
    "\n",
    "    my_model = aiplatform.Model(model_resource_name)\n",
    "\n",
    "    batch_prediction_job = my_model.batch_predict(\n",
    "        job_display_name=job_display_name,\n",
    "        gcs_source=gcs_source,\n",
    "        gcs_destination_prefix=gcs_destination,\n",
    "        sync=sync,\n",
    "    )\n",
    "\n",
    "    batch_prediction_job.wait()\n",
    "\n",
    "    print(batch_prediction_job.display_name)\n",
    "    print(batch_prediction_job.resource_name)\n",
    "    print(batch_prediction_job.state)\n",
    "    return batch_prediction_job\n"
   ]
  },
  {
   "cell_type": "code",
   "execution_count": null,
   "id": "eff4a567-7f86-4188-8115-b13f4eb16d91",
   "metadata": {},
   "outputs": [],
   "source": [
    "create_batch_prediction_job_sample(\n",
    "    project=\"bence-bial-sandbox\",\n",
    "    location=\"europe-west4\",\n",
    "    model_resource_name=\"6033574455467311104\",  # Copied from GCP Console\n",
    "    job_display_name=\"automl_prediction\",\n",
    "    gcs_source=\"gs://haba-ws/samples/samples.jsonl\",\n",
    "    gcs_destination=\"gs://haba-ws/samples-output.jsonl\"\n",
    ")"
   ]
  },
  {
   "cell_type": "code",
   "execution_count": null,
   "id": "fcada8a6-81e6-4728-a57c-9870a63c3e59",
   "metadata": {},
   "outputs": [],
   "source": []
  }
 ],
 "metadata": {
  "environment": {
   "kernel": "python3",
   "name": "pytorch-gpu.1-9.m82",
   "type": "gcloud",
   "uri": "gcr.io/deeplearning-platform-release/pytorch-gpu.1-9:m82"
  },
  "kernelspec": {
   "display_name": "Python 3",
   "language": "python",
   "name": "python3"
  },
  "language_info": {
   "codemirror_mode": {
    "name": "ipython",
    "version": 3
   },
   "file_extension": ".py",
   "mimetype": "text/x-python",
   "name": "python",
   "nbconvert_exporter": "python",
   "pygments_lexer": "ipython3",
   "version": "3.7.10"
  }
 },
 "nbformat": 4,
 "nbformat_minor": 5
}
