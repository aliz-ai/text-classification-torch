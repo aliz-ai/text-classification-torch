{
 "cells": [
  {
   "cell_type": "markdown",
   "metadata": {},
   "source": [
    "# Custom training job on Vertex AI\n",
    "\n",
    "[Autopackaging](https://cloud.google.com/vertex-ai/docs/training/create-custom-job#autopackaging)\n",
    "\n",
    "```bash\n",
    "gcloud auth configure-docker\n",
    "sudo chmod 666 /var/run/docker.sock\n",
    "```"
   ]
  },
  {
   "cell_type": "code",
   "execution_count": 1,
   "metadata": {},
   "outputs": [
    {
     "name": "stdout",
     "output_type": "stream",
     "text": [
      "/bin/bash: gcloud: command not found\n"
     ]
    }
   ],
   "source": [
    "!gcloud auth configure-docker"
   ]
  },
  {
   "cell_type": "code",
   "execution_count": 4,
   "metadata": {},
   "outputs": [
    {
     "name": "stdout",
     "output_type": "stream",
     "text": [
      "/bin/bash: gcloud: command not found\n"
     ]
    }
   ],
   "source": [
    "!gcloud ai custom-jobs create \\\n",
    "  --region=europe-west4 \\\n",
    "  --display-name=custom_job_haba \\\n",
    "  --worker-pool-spec=machine-type=n1-standard-4,replica-count=1,executor-image-uri=europe-docker.pkg.dev/vertex-ai/training/pytorch-gpu.1-9:latest,local-package-path=../,script=src/trainer/task.py \\\n",
    "  --args=--project=bence-bial-sandbox \\\n",
    "  --args=--bucket=haba-ws \\\n",
    "  --args=--output-path=output-debug \\\n",
    "  --args=--data=gs://haba-ws/data.csv \\\n",
    "  --args=--batch-size=16 \\\n",
    "  --args=--epochs=10 \\\n",
    "  --args=--eval-steps=1000"
   ]
  },
  {
   "cell_type": "markdown",
   "metadata": {},
   "source": [
    "Format custom args based on [this noteboob](https://github.com/GoogleCloudPlatform/vertex-ai-samples/blob/main/notebooks/official/matching_engine/two-tower-model-introduction.ipynb)"
   ]
  },
  {
   "cell_type": "markdown",
   "metadata": {},
   "source": [
    "## Package application\n",
    "\n",
    "```sh\n",
    "python setup.py sdist --formats=gztar\n",
    "gsutil cp dist/text-classification-0.1.tar.gz gs://haba-ws/container/\n",
    "```\n"
   ]
  },
  {
   "cell_type": "markdown",
   "metadata": {},
   "source": [
    "## Custom train job"
   ]
  },
  {
   "cell_type": "code",
   "execution_count": 1,
   "metadata": {},
   "outputs": [
    {
     "name": "stdout",
     "output_type": "stream",
     "text": [
      "response: name: \"projects/637644797917/locations/europe-west4/customJobs/149324674168258560\"\n",
      "display_name: \"train_text_classifier_2022_01_03_09_43_55\"\n",
      "job_spec {\n",
      "  worker_pool_specs {\n",
      "    machine_spec {\n",
      "      machine_type: \"n1-standard-4\"\n",
      "      accelerator_type: NVIDIA_TESLA_V100\n",
      "      accelerator_count: 4\n",
      "    }\n",
      "    replica_count: 1\n",
      "    disk_spec {\n",
      "      boot_disk_type: \"pd-ssd\"\n",
      "      boot_disk_size_gb: 100\n",
      "    }\n",
      "    python_package_spec {\n",
      "      executor_image_uri: \"europe-docker.pkg.dev/vertex-ai/training/pytorch-gpu.1-9:m82\"\n",
      "      package_uris: \"gs://haba-ws/container/text-classification-0.1.tar.gz\"\n",
      "      python_module: \"trainer.task\"\n",
      "      args: \"--epochs=10\"\n",
      "      args: \"--bucket=haba-ws\"\n",
      "      args: \"--project=bence-bial-sandbox\"\n",
      "      args: \"--data=gs://haba-ws/data.csv\"\n",
      "      args: \"--output-path=output-debug\"\n",
      "      args: \"--batch-size=16\"\n",
      "      args: \"--epochs=10\"\n",
      "      args: \"--eval-steps=500\"\n",
      "      args: \"--early-stopping-patience=5\"\n",
      "    }\n",
      "  }\n",
      "}\n",
      "state: JOB_STATE_PENDING\n",
      "create_time {\n",
      "  seconds: 1641199437\n",
      "  nanos: 49190000\n",
      "}\n",
      "update_time {\n",
      "  seconds: 1641199437\n",
      "  nanos: 49190000\n",
      "}\n",
      "\n"
     ]
    },
    {
     "data": {
      "text/plain": [
       "name: \"projects/637644797917/locations/europe-west4/customJobs/149324674168258560\"\n",
       "display_name: \"train_text_classifier_2022_01_03_09_43_55\"\n",
       "job_spec {\n",
       "  worker_pool_specs {\n",
       "    machine_spec {\n",
       "      machine_type: \"n1-standard-4\"\n",
       "      accelerator_type: NVIDIA_TESLA_V100\n",
       "      accelerator_count: 4\n",
       "    }\n",
       "    replica_count: 1\n",
       "    disk_spec {\n",
       "      boot_disk_type: \"pd-ssd\"\n",
       "      boot_disk_size_gb: 100\n",
       "    }\n",
       "    python_package_spec {\n",
       "      executor_image_uri: \"europe-docker.pkg.dev/vertex-ai/training/pytorch-gpu.1-9:m82\"\n",
       "      package_uris: \"gs://haba-ws/container/text-classification-0.1.tar.gz\"\n",
       "      python_module: \"trainer.task\"\n",
       "      args: \"--epochs=10\"\n",
       "      args: \"--bucket=haba-ws\"\n",
       "      args: \"--project=bence-bial-sandbox\"\n",
       "      args: \"--data=gs://haba-ws/data.csv\"\n",
       "      args: \"--output-path=output-debug\"\n",
       "      args: \"--batch-size=16\"\n",
       "      args: \"--epochs=10\"\n",
       "      args: \"--eval-steps=500\"\n",
       "      args: \"--early-stopping-patience=5\"\n",
       "    }\n",
       "  }\n",
       "}\n",
       "state: JOB_STATE_PENDING\n",
       "create_time {\n",
       "  seconds: 1641199437\n",
       "  nanos: 49190000\n",
       "}\n",
       "update_time {\n",
       "  seconds: 1641199437\n",
       "  nanos: 49190000\n",
       "}"
      ]
     },
     "execution_count": 1,
     "metadata": {},
     "output_type": "execute_result"
    }
   ],
   "source": [
    "from trainer.job import run_training_job\n",
    "\n",
    "run_training_job(\n",
    "    data=\"gs://haba-ws/data.csv\",\n",
    "    epochs=10,\n",
    "    project=\"bence-bial-sandbox\",\n",
    "    bucket=\"haba-ws\",\n",
    "    output_path=\"output-debug\",\n",
    "    batch_size=16,\n",
    "    eval_steps=500,\n",
    "    early_stopping_patience=5,\n",
    "    n_gpu=4,\n",
    "    region=\"europe-west4\",\n",
    "    api_endpoint=\"europe-west4-aiplatform.googleapis.com\",\n",
    "    package_uri=\"gs://haba-ws/container/text-classification-0.1.tar.gz\"\n",
    ")"
   ]
  },
  {
   "cell_type": "code",
   "execution_count": null,
   "metadata": {},
   "outputs": [],
   "source": [
    "python trainer/task.py --data=gs://haba-ws/data.csv --epochs=1 --project=bence-bial-sandbox --bucket=haba-ws --output-path=output-debug --batch-size=1 --eval-steps=50"
   ]
  }
 ],
 "metadata": {
  "interpreter": {
   "hash": "948042c9f7af004d3326952aba80319b54431df487922fa44890b026df820760"
  },
  "kernelspec": {
   "display_name": "Python 3.8.12 64-bit ('text-classification': conda)",
   "language": "python",
   "name": "python3"
  },
  "language_info": {
   "codemirror_mode": {
    "name": "ipython",
    "version": 3
   },
   "file_extension": ".py",
   "mimetype": "text/x-python",
   "name": "python",
   "nbconvert_exporter": "python",
   "pygments_lexer": "ipython3",
   "version": "3.8.12"
  },
  "orig_nbformat": 4
 },
 "nbformat": 4,
 "nbformat_minor": 2
}
