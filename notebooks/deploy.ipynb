{
 "cells": [
  {
   "cell_type": "markdown",
   "metadata": {},
   "source": [
    "# Custom training job on Vertex AI\n",
    "\n",
    "[Autopackaging](https://cloud.google.com/vertex-ai/docs/training/create-custom-job#autopackaging)\n",
    "\n",
    "```bash\n",
    "gcloud auth configure-docker\n",
    "sudo chmod 666 /var/run/docker.sock\n",
    "```"
   ]
  },
  {
   "cell_type": "code",
   "execution_count": 1,
   "metadata": {},
   "outputs": [
    {
     "name": "stdout",
     "output_type": "stream",
     "text": [
      "/bin/bash: gcloud: command not found\n"
     ]
    }
   ],
   "source": [
    "!gcloud auth configure-docker"
   ]
  },
  {
   "cell_type": "code",
   "execution_count": 4,
   "metadata": {},
   "outputs": [
    {
     "name": "stdout",
     "output_type": "stream",
     "text": [
      "/bin/bash: gcloud: command not found\n"
     ]
    }
   ],
   "source": [
    "!gcloud ai custom-jobs create \\\n",
    "  --region=europe-west4 \\\n",
    "  --display-name=custom_job_haba \\\n",
    "  --worker-pool-spec=machine-type=n1-standard-4,replica-count=1,executor-image-uri=europe-docker.pkg.dev/vertex-ai/training/pytorch-gpu.1-9:latest,local-package-path=../,script=src/trainer/task.py \\\n",
    "  --args=--project=bence-bial-sandbox \\\n",
    "  --args=--bucket=haba-ws \\\n",
    "  --args=--output-path=output-debug \\\n",
    "  --args=--data=gs://haba-ws/data.csv \\\n",
    "  --args=--batch-size=16 \\\n",
    "  --args=--epochs=10 \\\n",
    "  --args=--eval-steps=1000"
   ]
  },
  {
   "cell_type": "markdown",
   "metadata": {},
   "source": [
    "Format custom args based on [this noteboob](https://github.com/GoogleCloudPlatform/vertex-ai-samples/blob/main/notebooks/official/matching_engine/two-tower-model-introduction.ipynb)"
   ]
  },
  {
   "cell_type": "code",
   "execution_count": null,
   "metadata": {},
   "outputs": [],
   "source": []
  }
 ],
 "metadata": {
  "interpreter": {
   "hash": "948042c9f7af004d3326952aba80319b54431df487922fa44890b026df820760"
  },
  "kernelspec": {
   "display_name": "Python 3.8.12 64-bit ('text-classification': conda)",
   "language": "python",
   "name": "python3"
  },
  "language_info": {
   "codemirror_mode": {
    "name": "ipython",
    "version": 3
   },
   "file_extension": ".py",
   "mimetype": "text/x-python",
   "name": "python",
   "nbconvert_exporter": "python",
   "pygments_lexer": "ipython3",
   "version": "3.8.12"
  },
  "orig_nbformat": 4
 },
 "nbformat": 4,
 "nbformat_minor": 2
}
